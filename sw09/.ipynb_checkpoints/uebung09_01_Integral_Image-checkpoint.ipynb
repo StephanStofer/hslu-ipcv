{
 "cells": [
  {
   "cell_type": "markdown",
   "metadata": {},
   "source": [
    "# Übung 09: Object Detection"
   ]
  },
  {
   "cell_type": "markdown",
   "metadata": {},
   "source": [
    "## Aufgabe 1: Integral Images und Haar Filters\n",
    "\n",
    "In der erste Übung wollen wir versuchen mittels Intergral Images und Haar Filters ein weisses Rechteck in einem Bild zu erkennen."
   ]
  },
  {
   "cell_type": "code",
   "execution_count": null,
   "metadata": {},
   "outputs": [],
   "source": [
    "import numpy as np\n",
    "import skimage\n",
    "import skimage.data\n",
    "import skimage.io\n",
    "import skimage.future\n",
    "import skimage.segmentation\n",
    "import sklearn.cluster\n",
    "import cv2\n",
    "\n",
    "\n",
    "# for displaying images in jupyter\n",
    "from matplotlib import pyplot as plt\n",
    "\n",
    "%matplotlib inline\n",
    "import matplotlib.pyplot as plt\n",
    "plt.rcParams['figure.figsize'] = [10, 10]\n",
    "#mpl.rcParams['figure.dpi']= 400"
   ]
  },
  {
   "cell_type": "markdown",
   "metadata": {},
   "source": [
    "Das folgende Bild stammt aus der PREN Aufgabenstellung von 2019, wo ein Zug während der Fahrt eine Ziffer auf einem Signal detektieren soll. Um das zu vereinfachen soll zuerst das Signal gefunden werden."
   ]
  },
  {
   "cell_type": "code",
   "execution_count": null,
   "metadata": {},
   "outputs": [],
   "source": [
    "image = cv2.imread('images\\\\IMG_7446.jpg')"
   ]
  },
  {
   "cell_type": "code",
   "execution_count": null,
   "metadata": {},
   "outputs": [],
   "source": [
    "plt.rcParams['figure.figsize'] = [10, 10]\n",
    "plt.imshow(image)"
   ]
  },
  {
   "cell_type": "markdown",
   "metadata": {},
   "source": [
    "Wir möchten nur einen Ausschnitt betrachten und konvertieren das Bild auf 1-Kanal als Grauwert."
   ]
  },
  {
   "cell_type": "code",
   "execution_count": null,
   "metadata": {},
   "outputs": [],
   "source": [
    "sub = image[200:500, 200:1500]\n",
    "sub_gray = cv2.cvtColor(sub, cv2.COLOR_RGB2GRAY)\n",
    "plt.imshow(sub_gray, cmap='gray')"
   ]
  },
  {
   "cell_type": "markdown",
   "metadata": {},
   "source": [
    "Berechnen sie nun das Intergral Bild mittels cv2.integral und stellen sie dieses dar."
   ]
  },
  {
   "cell_type": "code",
   "execution_count": null,
   "metadata": {},
   "outputs": [],
   "source": []
  },
  {
   "cell_type": "markdown",
   "metadata": {},
   "source": [
    "Im nächsten Feld ist die Definition eines Haar Features das die Summe der Pixel in einem Rechteck aus dem Integral Bild berechnet. Vervollständigen Sie die Funktion."
   ]
  },
  {
   "cell_type": "code",
   "execution_count": null,
   "metadata": {},
   "outputs": [],
   "source": [
    "def haar_feature(integral_image: np.ndarray, height:int, width:int, row:int, col:int):\n",
    "    # see https://en.wikipedia.org/wiki/Haar-like_feature\n",
    "    # Add code to calculate features\n",
    "    return"
   ]
  },
  {
   "cell_type": "markdown",
   "metadata": {},
   "source": [
    "Die folgende Funktion benützt das haar_feature um ein Rechteck zu finden. Benutzen Sie die Funktion nun um das beste, weisse Rechteck zu finden und stellen sie dieses dar."
   ]
  },
  {
   "cell_type": "code",
   "execution_count": null,
   "metadata": {},
   "outputs": [],
   "source": [
    "def find_rect(integral_image: np.ndarray, height: int, width: int):\n",
    "    max_value = 0\n",
    "    max_position = (0,0)\n",
    "    for row in range(integral_image.shape[0] - height - 1):\n",
    "        for col in range(integral_image.shape[1] - width - 1):\n",
    "            value = haar_feature(integral_image, height, width, row, col)\n",
    "            if value > max_value:\n",
    "                max_value = value\n",
    "                max_position = (row, col)\n",
    "    return max_position\n"
   ]
  },
  {
   "cell_type": "code",
   "execution_count": null,
   "metadata": {},
   "outputs": [],
   "source": []
  },
  {
   "cell_type": "code",
   "execution_count": null,
   "metadata": {},
   "outputs": [],
   "source": []
  }
 ],
 "metadata": {
  "kernelspec": {
   "display_name": "Python 3",
   "language": "python",
   "name": "python3"
  },
  "language_info": {
   "codemirror_mode": {
    "name": "ipython",
    "version": 3
   },
   "file_extension": ".py",
   "mimetype": "text/x-python",
   "name": "python",
   "nbconvert_exporter": "python",
   "pygments_lexer": "ipython3",
   "version": "3.7.4"
  }
 },
 "nbformat": 4,
 "nbformat_minor": 2
}
