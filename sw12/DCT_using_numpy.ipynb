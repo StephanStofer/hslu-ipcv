{
 "cells": [
  {
   "cell_type": "code",
   "execution_count": 1,
   "metadata": {},
   "outputs": [],
   "source": [
    "import numpy as np\n",
    "from numpy import linalg as LA"
   ]
  },
  {
   "cell_type": "code",
   "execution_count": 2,
   "metadata": {},
   "outputs": [],
   "source": [
    "N = 2\n",
    "C = np.zeros(shape=(N,N))\n",
    "# C"
   ]
  },
  {
   "cell_type": "code",
   "execution_count": 3,
   "metadata": {},
   "outputs": [
    {
     "name": "stdout",
     "output_type": "stream",
     "text": [
      "[[ 0.70710678  0.70710678]\n",
      " [ 0.70710678 -0.70710678]]\n",
      "[[ 0.70710678  0.70710678]\n",
      " [ 0.70710678 -0.70710678]]\n"
     ]
    }
   ],
   "source": [
    "for i in range(N):\n",
    "    for j in range(N):\n",
    "        if i == 0:\n",
    "            c_n = np.sqrt(1/N)\n",
    "        else:\n",
    "            c_n = np.sqrt(2/N)\n",
    "        C[i][j] = c_n * np.cos((2*j+1)*i*np.pi/(2*N))\n",
    "        \n",
    "print(C)\n",
    "print(LA.inv(C))\n",
    "            "
   ]
  },
  {
   "cell_type": "code",
   "execution_count": 4,
   "metadata": {},
   "outputs": [
    {
     "data": {
      "text/plain": [
       "2.220446049250313e-16"
      ]
     },
     "execution_count": 4,
     "metadata": {},
     "output_type": "execute_result"
    }
   ],
   "source": [
    "np.max(abs(LA.inv(C)-C.T))"
   ]
  },
  {
   "cell_type": "code",
   "execution_count": 5,
   "metadata": {},
   "outputs": [],
   "source": [
    "X = np.identity(N)"
   ]
  },
  {
   "cell_type": "code",
   "execution_count": 6,
   "metadata": {},
   "outputs": [
    {
     "data": {
      "text/plain": [
       "array([[ 0.70710678,  0.70710678],\n",
       "       [ 0.70710678, -0.70710678]])"
      ]
     },
     "execution_count": 6,
     "metadata": {},
     "output_type": "execute_result"
    }
   ],
   "source": [
    "Y = np.dot(C,X)\n",
    "Y"
   ]
  },
  {
   "cell_type": "code",
   "execution_count": 7,
   "metadata": {},
   "outputs": [],
   "source": [
    "Ymask = np.abs(Y) < 0.5\n",
    "Ycrop = Y\n",
    "Ycrop[Ymask] = 0"
   ]
  },
  {
   "cell_type": "code",
   "execution_count": 8,
   "metadata": {},
   "outputs": [
    {
     "data": {
      "text/plain": [
       "array([[ 0.70710678,  0.70710678],\n",
       "       [ 0.70710678, -0.70710678]])"
      ]
     },
     "execution_count": 8,
     "metadata": {},
     "output_type": "execute_result"
    }
   ],
   "source": [
    "Ycrop"
   ]
  },
  {
   "cell_type": "code",
   "execution_count": 9,
   "metadata": {},
   "outputs": [
    {
     "data": {
      "text/plain": [
       "array([[ 1.00000000e+00, -1.00875766e-16],\n",
       "       [ 4.26642159e-17,  1.00000000e+00]])"
      ]
     },
     "execution_count": 9,
     "metadata": {},
     "output_type": "execute_result"
    }
   ],
   "source": [
    "Xrec = np.dot(LA.inv(C),Ycrop)\n",
    "Xrec"
   ]
  },
  {
   "cell_type": "code",
   "execution_count": 10,
   "metadata": {},
   "outputs": [
    {
     "data": {
      "text/plain": [
       "array([[1, 2],\n",
       "       [3, 4]])"
      ]
     },
     "execution_count": 10,
     "metadata": {},
     "output_type": "execute_result"
    }
   ],
   "source": [
    "A = np.array([[1,2],[3,4]])\n",
    "A"
   ]
  },
  {
   "cell_type": "code",
   "execution_count": 11,
   "metadata": {},
   "outputs": [
    {
     "name": "stdout",
     "output_type": "stream",
     "text": [
      "[[ 1  2  1  2  5  6  5  6]\n",
      " [ 3  4  3  4  7  8  7  8]\n",
      " [ 1  2  1  2  5  6  5  6]\n",
      " [ 3  4  3  4  7  8  7  8]\n",
      " [ 9 10  9 10 13 14 13 14]\n",
      " [11 12 11 12 15 16 15 16]\n",
      " [ 9 10  9 10 13 14 13 14]\n",
      " [11 12 11 12 15 16 15 16]]\n"
     ]
    }
   ],
   "source": [
    "def fn(m_,N=2):\n",
    "        rows, cols = m_.shape\n",
    "        assert rows%2==0 and cols%2==0\n",
    "        return np.reshape(\n",
    "            np.transpose(\n",
    "                np.tile(\n",
    "                    np.transpose(\n",
    "                        np.reshape(\n",
    "                            m_,(rows//N,N, cols//N,N)\n",
    "                        ),(0,2,1,3)),(N,N)),(0,2,1,3)\n",
    "            ),\n",
    "            (rows*N,cols*N)\n",
    "        )\n",
    "\n",
    "m = np.array([[ 1,  2,  5,  6],\n",
    "              [ 3,  4,  7,  8],\n",
    "              [ 9, 10, 13, 14],\n",
    "              [11, 12, 15, 16]])\n",
    "\n",
    "print(fn(m,2))"
   ]
  },
  {
   "cell_type": "code",
   "execution_count": 12,
   "metadata": {},
   "outputs": [
    {
     "data": {
      "text/plain": [
       "array([[[[ 1,  2,  5,  6]],\n",
       "\n",
       "        [[ 3,  4,  7,  8]],\n",
       "\n",
       "        [[ 9, 10, 13, 14]],\n",
       "\n",
       "        [[11, 12, 15, 16]]]])"
      ]
     },
     "execution_count": 12,
     "metadata": {},
     "output_type": "execute_result"
    }
   ],
   "source": [
    "Am_reshape = np.reshape(m,(1,4,1,4))\n",
    "Am_reshape"
   ]
  },
  {
   "cell_type": "code",
   "execution_count": 13,
   "metadata": {},
   "outputs": [
    {
     "data": {
      "text/plain": [
       "array([[[[ 1,  2,  5,  6],\n",
       "         [ 3,  4,  7,  8],\n",
       "         [ 9, 10, 13, 14],\n",
       "         [11, 12, 15, 16]]]])"
      ]
     },
     "execution_count": 13,
     "metadata": {},
     "output_type": "execute_result"
    }
   ],
   "source": [
    "Am_transpose = np.transpose(Am_reshape,(0,2,1,3))\n",
    "Am_transpose"
   ]
  },
  {
   "cell_type": "code",
   "execution_count": 14,
   "metadata": {},
   "outputs": [
    {
     "data": {
      "text/plain": [
       "array([[[[ 1,  2,  5,  6,  1,  2,  5,  6],\n",
       "         [ 3,  4,  7,  8,  3,  4,  7,  8],\n",
       "         [ 9, 10, 13, 14,  9, 10, 13, 14],\n",
       "         [11, 12, 15, 16, 11, 12, 15, 16],\n",
       "         [ 1,  2,  5,  6,  1,  2,  5,  6],\n",
       "         [ 3,  4,  7,  8,  3,  4,  7,  8],\n",
       "         [ 9, 10, 13, 14,  9, 10, 13, 14],\n",
       "         [11, 12, 15, 16, 11, 12, 15, 16]]]])"
      ]
     },
     "execution_count": 14,
     "metadata": {},
     "output_type": "execute_result"
    }
   ],
   "source": [
    "Am_tile = np.tile(Am_transpose,(2,2))\n",
    "Am_tile"
   ]
  },
  {
   "cell_type": "code",
   "execution_count": 15,
   "metadata": {},
   "outputs": [
    {
     "data": {
      "text/plain": [
       "array([[1, 2, 1, 2, 1, 2, 1, 2],\n",
       "       [3, 4, 3, 4, 3, 4, 3, 4],\n",
       "       [1, 2, 1, 2, 1, 2, 1, 2],\n",
       "       [3, 4, 3, 4, 3, 4, 3, 4],\n",
       "       [1, 2, 1, 2, 1, 2, 1, 2],\n",
       "       [3, 4, 3, 4, 3, 4, 3, 4],\n",
       "       [1, 2, 1, 2, 1, 2, 1, 2],\n",
       "       [3, 4, 3, 4, 3, 4, 3, 4]])"
      ]
     },
     "execution_count": 15,
     "metadata": {},
     "output_type": "execute_result"
    }
   ],
   "source": [
    "np.tile(A,(4,4))"
   ]
  },
  {
   "cell_type": "code",
   "execution_count": 16,
   "metadata": {},
   "outputs": [
    {
     "data": {
      "text/plain": [
       "array([[1, 1, 1, 1, 2, 2, 2, 2],\n",
       "       [1, 1, 1, 1, 2, 2, 2, 2],\n",
       "       [1, 1, 1, 1, 2, 2, 2, 2],\n",
       "       [1, 1, 1, 1, 2, 2, 2, 2],\n",
       "       [3, 3, 3, 3, 4, 4, 4, 4],\n",
       "       [3, 3, 3, 3, 4, 4, 4, 4],\n",
       "       [3, 3, 3, 3, 4, 4, 4, 4],\n",
       "       [3, 3, 3, 3, 4, 4, 4, 4]])"
      ]
     },
     "execution_count": 16,
     "metadata": {},
     "output_type": "execute_result"
    }
   ],
   "source": [
    "np.repeat(np.repeat(A,4,axis=0),4,axis=1)"
   ]
  },
  {
   "cell_type": "code",
   "execution_count": 17,
   "metadata": {},
   "outputs": [],
   "source": [
    "def RGB2YCbCr(im):\n",
    "#    xform = np.array([[.299, .587, .114],\n",
    "#                      [-.1687, -.3313, .5],\n",
    "#                      [.5, -.4187, -.0813]])\n",
    "    xform = np.array([[.301, .586, .113],\n",
    "                      [-.172, -.340, .512],\n",
    "                      [.512, -.430, -.082]])\n",
    "    YCbCr = im.dot(xform.T)\n",
    "    YCbCr[:,:,[1,2]] += 128\n",
    "    return np.uint8(YCbCr)"
   ]
  },
  {
   "cell_type": "code",
   "execution_count": 18,
   "metadata": {},
   "outputs": [],
   "source": [
    "def YCbCr2RGB(im):\n",
    "#    xform = np.array([[1, 0, 1.402],\n",
    "#                      [1, -0.34414, -.71414],\n",
    "#                      [1, 1.772, 0]])\n",
    "    xform = np.array([[1, 0, 1.371],\n",
    "                      [1, -0.336, -.698],\n",
    "                      [1, 1.732, 0]])\n",
    "    RGB = im.astype(np.float)\n",
    "    RGB[:,:,[1,2]] -= 128\n",
    "    RGB = RGB.dot(xform.T)\n",
    "    np.putmask(RGB, RGB > 255, 255)\n",
    "    np.putmask(RGB, RGB < 0, 0)\n",
    "    return np.uint8(RGB)"
   ]
  },
  {
   "cell_type": "code",
   "execution_count": 19,
   "metadata": {},
   "outputs": [
    {
     "data": {
      "text/plain": [
       "array([[ 0.299 ,  0.587 ,  0.114 ],\n",
       "       [-0.1687, -0.3313,  0.5   ],\n",
       "       [ 0.5   , -0.4187, -0.0813]])"
      ]
     },
     "execution_count": 19,
     "metadata": {},
     "output_type": "execute_result"
    }
   ],
   "source": [
    "B = np.array([[.299, .587, .114],\n",
    "              [-.1687, -.3313, .5],\n",
    "              [.5, -.4187, -.0813]])\n",
    "B"
   ]
  },
  {
   "cell_type": "code",
   "execution_count": 20,
   "metadata": {},
   "outputs": [
    {
     "data": {
      "text/plain": [
       "array([[ 1.00000000e+00, -3.68199903e-05,  1.40198758e+00],\n",
       "       [ 1.00000000e+00, -3.44113281e-01, -7.14103821e-01],\n",
       "       [ 1.00000000e+00,  1.77197812e+00, -1.34583413e-04]])"
      ]
     },
     "execution_count": 20,
     "metadata": {},
     "output_type": "execute_result"
    }
   ],
   "source": [
    "LA.inv(B)"
   ]
  },
  {
   "cell_type": "code",
   "execution_count": 21,
   "metadata": {},
   "outputs": [],
   "source": [
    "import matplotlib.pyplot as plt\n"
   ]
  },
  {
   "cell_type": "code",
   "execution_count": 22,
   "metadata": {},
   "outputs": [],
   "source": [
    "N = 100\n",
    "Y1 = 128*np.ones((N,N),dtype=np.uint8)\n",
    "Cb1 = 20*np.ones((N,N),dtype=np.uint8)\n",
    "Cr1 =240*np.ones((N,N),dtype=np.uint8)\n",
    "YCbCr1 = np.dstack((Y1,Cb1,Cr1))\n",
    "RGB1 = YCbCr2RGB(YCbCr1)"
   ]
  },
  {
   "cell_type": "code",
   "execution_count": 23,
   "metadata": {},
   "outputs": [
    {
     "data": {
      "text/plain": [
       "<matplotlib.image.AxesImage at 0x107d1f9e8>"
      ]
     },
     "execution_count": 23,
     "metadata": {},
     "output_type": "execute_result"
    },
    {
     "data": {
      "image/png": "[encoded data removed]",
      "text/plain": [
       "<Figure size 432x288 with 1 Axes>"
      ]
     },
     "metadata": {
      "needs_background": "light"
     },
     "output_type": "display_data"
    }
   ],
   "source": [
    "plt.imshow(RGB1)"
   ]
  },
  {
   "cell_type": "markdown",
   "metadata": {},
   "source": [
    "# DCT in 2D"
   ]
  },
  {
   "cell_type": "code",
   "execution_count": 24,
   "metadata": {},
   "outputs": [],
   "source": [
    "def CMatrix(N):\n",
    "    C = np.zeros(shape=(N,N))\n",
    "    for n in range(N):\n",
    "        for k in range(N):\n",
    "            if n == 0:\n",
    "                c_n = np.sqrt(1/N)\n",
    "            else:\n",
    "                c_n = np.sqrt(2/N)\n",
    "            C[n][k] = c_n * np.cos((2*k+1)*n*np.pi/(2*N))\n",
    "    return C\n",
    "    \n",
    "C = CMatrix(N=2048)"
   ]
  },
  {
   "cell_type": "markdown",
   "metadata": {},
   "source": [
    "Das Inverse der Matrix $\\mathbf{C}$, $\\mathbf{C}^{-1}$, ist gleich $\\mathbf{C}^T$, i.e. $\\mathbf{C}^{-1}\\mathbf{C}=\\mathbf{C}^T\\mathbf{C}=1$. Wir überprüfen dies für den Fall $N=4$ indem wir einerseits\n",
    "$\\mathbf{C}^{-1}$ mit Methoden der linearen Algebra berechnen und dies vergleichen mit $\\mathbf{C}^T$."
   ]
  },
  {
   "cell_type": "code",
   "execution_count": 25,
   "metadata": {},
   "outputs": [
    {
     "data": {
      "text/plain": [
       "2.2969473545408903e-14"
      ]
     },
     "execution_count": 25,
     "metadata": {},
     "output_type": "execute_result"
    }
   ],
   "source": [
    "np.max(abs(LA.inv(C)-C.T))\n",
    "# Hier wird gezeigt, dass inv(C) == C'"
   ]
  },
  {
   "cell_type": "markdown",
   "metadata": {},
   "source": [
    "Weiter wollen wir zeigen, dass das erste Element $y_0$ der DCT-Transformierten $\\mathbf{y}=\\mathbf{C}\\mathbf{x}$ eines Vektors $\\mathbf{x}$ gleich der DC-Komponente (Gleichstrom-Komponente) dieses Vektors ist, also im Wesentlichen dem Mittelwert der Komponenten des Vektors entspricht."
   ]
  },
  {
   "cell_type": "code",
   "execution_count": 26,
   "metadata": {},
   "outputs": [
    {
     "ename": "ValueError",
     "evalue": "shapes (2048,2048) and (4,) not aligned: 2048 (dim 1) != 4 (dim 0)",
     "output_type": "error",
     "traceback": [
      "\u001b[0;31m---------------------------------------------------------------------------\u001b[0m",
      "\u001b[0;31mValueError\u001b[0m                                Traceback (most recent call last)",
      "\u001b[0;32m<ipython-input-26-c8d4a2e39b4a>\u001b[0m in \u001b[0;36m<module>\u001b[0;34m\u001b[0m\n\u001b[1;32m      1\u001b[0m \u001b[0mx\u001b[0m \u001b[0;34m=\u001b[0m \u001b[0mnp\u001b[0m\u001b[0;34m.\u001b[0m\u001b[0marray\u001b[0m\u001b[0;34m(\u001b[0m\u001b[0;34m[\u001b[0m\u001b[0;36m1\u001b[0m\u001b[0;34m,\u001b[0m \u001b[0;36m1\u001b[0m\u001b[0;34m,\u001b[0m \u001b[0;36m1\u001b[0m\u001b[0;34m,\u001b[0m \u001b[0;36m1\u001b[0m\u001b[0;34m]\u001b[0m\u001b[0;34m)\u001b[0m\u001b[0;34m\u001b[0m\u001b[0;34m\u001b[0m\u001b[0m\n\u001b[0;32m----> 2\u001b[0;31m \u001b[0my\u001b[0m \u001b[0;34m=\u001b[0m \u001b[0mnp\u001b[0m\u001b[0;34m.\u001b[0m\u001b[0mdot\u001b[0m\u001b[0;34m(\u001b[0m\u001b[0mC\u001b[0m\u001b[0;34m,\u001b[0m \u001b[0mx\u001b[0m\u001b[0;34m.\u001b[0m\u001b[0mT\u001b[0m\u001b[0;34m)\u001b[0m\u001b[0;34m\u001b[0m\u001b[0;34m\u001b[0m\u001b[0m\n\u001b[0m\u001b[1;32m      3\u001b[0m \u001b[0mprint\u001b[0m\u001b[0;34m(\u001b[0m\u001b[0my\u001b[0m\u001b[0;34m)\u001b[0m\u001b[0;34m\u001b[0m\u001b[0;34m\u001b[0m\u001b[0m\n",
      "\u001b[0;32m<__array_function__ internals>\u001b[0m in \u001b[0;36mdot\u001b[0;34m(*args, **kwargs)\u001b[0m\n",
      "\u001b[0;31mValueError\u001b[0m: shapes (2048,2048) and (4,) not aligned: 2048 (dim 1) != 4 (dim 0)"
     ]
    }
   ],
   "source": [
    "x = np.array([1, 1, 1, 1])\n",
    "y = np.dot(C, x.T)\n",
    "print(y)"
   ]
  },
  {
   "cell_type": "code",
   "execution_count": null,
   "metadata": {},
   "outputs": [],
   "source": [
    "def dct1d(x):\n",
    "    C = CMatrix(X.shape[0]) # N\n",
    "    return np.dot(C,x.T)"
   ]
  },
  {
   "cell_type": "code",
   "execution_count": null,
   "metadata": {},
   "outputs": [],
   "source": [
    "def dct2d(X):\n",
    "    CL = CMatrix(X.shape[0]) # m\n",
    "    CR = CMatrix(X.shape[1]) # n\n",
    "    Y = np.dot(np.dot(CL, X), CR.T)\n",
    "    return Y\n",
    "\n",
    "def idct2d(Y):\n",
    "    CL = CMatrix(Y.shape[0]) # m\n",
    "    CR = CMatrix(Y.shape[1]) # n\n",
    "    X = np.dot(np.dot(CL.T, Y), CR)\n",
    "    return X"
   ]
  }
 ],
 "metadata": {
  "kernelspec": {
   "display_name": "Python 3",
   "language": "python",
   "name": "python3"
  },
  "language_info": {
   "codemirror_mode": {
    "name": "ipython",
    "version": 3
   },
   "file_extension": ".py",
   "mimetype": "text/x-python",
   "name": "python",
   "nbconvert_exporter": "python",
   "pygments_lexer": "ipython3",
   "version": "3.7.3"
  }
 },
 "nbformat": 4,
 "nbformat_minor": 4
}
